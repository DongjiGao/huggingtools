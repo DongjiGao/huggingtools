{
 "cells": [
  {
   "cell_type": "code",
   "execution_count": 23,
   "id": "6c777888",
   "metadata": {},
   "outputs": [],
   "source": [
    "# 2021 Dongji Gao"
   ]
  },
  {
   "cell_type": "code",
   "execution_count": 16,
   "id": "b02404ed",
   "metadata": {},
   "outputs": [],
   "source": [
    "import datasets\n",
    "from mapping import speech_to_input\n",
    "from checking import check_data, get_subset"
   ]
  },
  {
   "cell_type": "code",
   "execution_count": 2,
   "id": "bc70e7c8",
   "metadata": {},
   "outputs": [],
   "source": [
    "dataset_dict = datasets.DatasetDict()"
   ]
  },
  {
   "cell_type": "code",
   "execution_count": 6,
   "id": "2d64f82c",
   "metadata": {},
   "outputs": [
    {
     "name": "stderr",
     "output_type": "stream",
     "text": [
      "Reusing dataset librispeech_asr (/home/dgao/.cache/huggingface/datasets/librispeech_asr/clean/2.1.0/7020b7c48a960d82be5eae749f537115c6a45c75d5207011fd55948bd95d4de0)\n"
     ]
    }
   ],
   "source": [
    "# use get_subset to split by duration\n",
    "librispeech_train = datasets.load_dataset(\"librispeech_asr\", \"clean\", split=\"train.100[:500]\")"
   ]
  },
  {
   "cell_type": "code",
   "execution_count": 7,
   "id": "cf010742",
   "metadata": {},
   "outputs": [
    {
     "name": "stderr",
     "output_type": "stream",
     "text": [
      "Reusing dataset librispeech_asr (/home/dgao/.cache/huggingface/datasets/librispeech_asr/clean/2.1.0/7020b7c48a960d82be5eae749f537115c6a45c75d5207011fd55948bd95d4de0)\n"
     ]
    }
   ],
   "source": [
    "librispeech_eval = datasets.load_dataset(\"librispeech_asr\", \"clean\", split=\"validation[:50]\")"
   ]
  },
  {
   "cell_type": "code",
   "execution_count": 9,
   "id": "410b5e94",
   "metadata": {},
   "outputs": [
    {
     "name": "stdout",
     "output_type": "stream",
     "text": [
      "500\n",
      "50\n"
     ]
    }
   ],
   "source": [
    "print(len(librispeech_train))\n",
    "print(len(librispeech_eval))"
   ]
  },
  {
   "cell_type": "code",
   "execution_count": 13,
   "id": "b4e914b5",
   "metadata": {},
   "outputs": [
    {
     "name": "stdout",
     "output_type": "stream",
     "text": [
      "==== sampling 5 examples from 500 in total ====\n",
      "file: /home/dgao/.cache/huggingface/datasets/downloads/extracted/287cca7b937d3ebb21d4afaa75b3f41278b554692046d03f5d3dc5cd03623f4e/LibriSpeech/train-clean-100/1081/125237/1081-125237-0079.flac\n",
      "text: ARTICLE TWELVE STIPULATED THAT THE PRINCE OF ORANGE SHOULD NOT AT ANY TIME HOLD ANY OF THE OFFICES OR DIGNITIES WHICH HAD BEEN HELD BY HIS ANCESTORS OR BE APPOINTED TO ANY MILITARY COMMAND\n",
      "speaker_id: 1081\n",
      "chapter_id: 125237\n",
      "id: 1081-125237-0079\n",
      "\n",
      "file: /home/dgao/.cache/huggingface/datasets/downloads/extracted/287cca7b937d3ebb21d4afaa75b3f41278b554692046d03f5d3dc5cd03623f4e/LibriSpeech/train-clean-100/1069/133709/1069-133709-0007.flac\n",
      "text: AND HER IMAGINATION CONSTANTLY ANTICIPATED THE JUDGEMENTS AND EMOTIONS OF A WOMAN WHO HAD VERY LITTLE OF THE SAME FACULTY APART FROM THIS MISSUS TOUCHETT HAD A GREAT MERIT SHE WAS AS HONEST AS A PAIR OF COMPASSES\n",
      "speaker_id: 1069\n",
      "chapter_id: 133709\n",
      "id: 1069-133709-0007\n",
      "\n",
      "file: /home/dgao/.cache/huggingface/datasets/downloads/extracted/287cca7b937d3ebb21d4afaa75b3f41278b554692046d03f5d3dc5cd03623f4e/LibriSpeech/train-clean-100/1081/125237/1081-125237-0037.flac\n",
      "text: AND IN LONG CRUISES TO THE WEST INDIES FOR THE PURPOSE OF FORCING THE ENGLISH COLONIES TO ACKNOWLEDGE PARLIAMENTARY RULE THE CREWS THEREFORE WERE WELL TRAINED AND THE SHIPS WERE LARGER STRONGER AND BETTER ARMED THAN THOSE OF THE DUTCH\n",
      "speaker_id: 1081\n",
      "chapter_id: 125237\n",
      "id: 1081-125237-0037\n",
      "\n",
      "file: /home/dgao/.cache/huggingface/datasets/downloads/extracted/287cca7b937d3ebb21d4afaa75b3f41278b554692046d03f5d3dc5cd03623f4e/LibriSpeech/train-clean-100/1069/133709/1069-133709-0052.flac\n",
      "text: SHE SHOULD RECEIVE THE NEWS WITHOUT A PANG EVEN OF SURPRISE IT WOULD HAVE PROVED THAT HE BELIEVED SHE WAS FIRM WHICH WAS WHAT SHE WISHED TO SEEM TO HIM\n",
      "speaker_id: 1069\n",
      "chapter_id: 133709\n",
      "id: 1069-133709-0052\n",
      "\n",
      "file: /home/dgao/.cache/huggingface/datasets/downloads/extracted/287cca7b937d3ebb21d4afaa75b3f41278b554692046d03f5d3dc5cd03623f4e/LibriSpeech/train-clean-100/103/1241/103-1241-0007.flac\n",
      "text: AND SINCE SITTING AND WAITING WAS THE ONLY THING TO DO JUST THEN SHE SAT AND WAITED WITH ALL HER MIGHT AND MAIN MATTHEW ENCOUNTERED THE STATIONMASTER LOCKING UP THE TICKET OFFICE PREPARATORY TO GOING HOME FOR SUPPER AND ASKED HIM IF THE FIVE THIRTY TRAIN WOULD SOON BE ALONG\n",
      "speaker_id: 103\n",
      "chapter_id: 1241\n",
      "id: 103-1241-0007\n",
      "\n",
      "==== sampling 5 examples from 50 in total ====\n",
      "file: /home/dgao/.cache/huggingface/datasets/downloads/extracted/a44cd086394874aa6438c3bbacd406184da5b5e86db88964c88c6ecf61b4f7c3/LibriSpeech/dev-clean/1272/135031/1272-135031-0015.flac\n",
      "text: THE METAL FOREST IS IN THE GREAT DOMED CAVERN THE LARGEST IN ALL OUR DOMINIONS REPLIED KALIKO\n",
      "speaker_id: 1272\n",
      "chapter_id: 135031\n",
      "id: 1272-135031-0015\n",
      "\n",
      "file: /home/dgao/.cache/huggingface/datasets/downloads/extracted/a44cd086394874aa6438c3bbacd406184da5b5e86db88964c88c6ecf61b4f7c3/LibriSpeech/dev-clean/1272/128104/1272-128104-0008.flac\n",
      "text: AS FOR ETCHINGS THEY ARE OF TWO KINDS BRITISH AND FOREIGN\n",
      "speaker_id: 1272\n",
      "chapter_id: 128104\n",
      "id: 1272-128104-0008\n",
      "\n",
      "file: /home/dgao/.cache/huggingface/datasets/downloads/extracted/a44cd086394874aa6438c3bbacd406184da5b5e86db88964c88c6ecf61b4f7c3/LibriSpeech/dev-clean/1272/135031/1272-135031-0001.flac\n",
      "text: HE HAS GONE AND GONE FOR GOOD ANSWERED POLYCHROME WHO HAD MANAGED TO SQUEEZE INTO THE ROOM BESIDE THE DRAGON AND HAD WITNESSED THE OCCURRENCES WITH MUCH INTEREST\n",
      "speaker_id: 1272\n",
      "chapter_id: 135031\n",
      "id: 1272-135031-0001\n",
      "\n",
      "file: /home/dgao/.cache/huggingface/datasets/downloads/extracted/a44cd086394874aa6438c3bbacd406184da5b5e86db88964c88c6ecf61b4f7c3/LibriSpeech/dev-clean/1272/128104/1272-128104-0011.flac\n",
      "text: IN FACT HE IS QUITE SEVERE ON MISTER RUSKIN FOR NOT RECOGNISING THAT A PICTURE SHOULD DENOTE THE FRAILTY OF MAN AND REMARKS WITH PLEASING COURTESY AND FELICITOUS GRACE THAT MANY PHASES OF FEELING\n",
      "speaker_id: 1272\n",
      "chapter_id: 128104\n",
      "id: 1272-128104-0011\n",
      "\n",
      "file: /home/dgao/.cache/huggingface/datasets/downloads/extracted/a44cd086394874aa6438c3bbacd406184da5b5e86db88964c88c6ecf61b4f7c3/LibriSpeech/dev-clean/1272/135031/1272-135031-0014.flac\n",
      "text: WHERE IS THAT\n",
      "speaker_id: 1272\n",
      "chapter_id: 135031\n",
      "id: 1272-135031-0014\n",
      "\n"
     ]
    }
   ],
   "source": [
    "check_data(librispeech_train, dis_number=5)\n",
    "check_data(librispeech_eval, dis_number=5)"
   ]
  },
  {
   "cell_type": "code",
   "execution_count": 14,
   "id": "579a60d9",
   "metadata": {},
   "outputs": [],
   "source": [
    "dataset_dict[\"train\"] = librispeech_train\n",
    "dataset_dict[\"eval\"] = librispeech_eval"
   ]
  },
  {
   "cell_type": "code",
   "execution_count": 21,
   "id": "8a016c2c",
   "metadata": {},
   "outputs": [
    {
     "name": "stderr",
     "output_type": "stream",
     "text": [
      "Loading cached processed dataset at /home/dgao/.cache/huggingface/datasets/librispeech_asr/clean/2.1.0/7020b7c48a960d82be5eae749f537115c6a45c75d5207011fd55948bd95d4de0/cache-682bcc30ef08b43e.arrow\n",
      "Loading cached processed dataset at /home/dgao/.cache/huggingface/datasets/librispeech_asr/clean/2.1.0/7020b7c48a960d82be5eae749f537115c6a45c75d5207011fd55948bd95d4de0/cache-1cdd204c05e2ae5c.arrow\n"
     ]
    }
   ],
   "source": [
    "dataset_dict = dataset_dict.map(speech_to_input)"
   ]
  },
  {
   "cell_type": "code",
   "execution_count": 22,
   "id": "4f034838",
   "metadata": {},
   "outputs": [],
   "source": [
    "dataset_dict.save_to_disk(\"dataset/librispeech_toy\")"
   ]
  },
  {
   "cell_type": "code",
   "execution_count": null,
   "id": "98891eb4",
   "metadata": {},
   "outputs": [],
   "source": []
  },
  {
   "cell_type": "code",
   "execution_count": null,
   "id": "620e1072",
   "metadata": {},
   "outputs": [],
   "source": []
  },
  {
   "cell_type": "code",
   "execution_count": null,
   "id": "e20860f3",
   "metadata": {},
   "outputs": [],
   "source": []
  },
  {
   "cell_type": "code",
   "execution_count": null,
   "id": "ea386262",
   "metadata": {},
   "outputs": [],
   "source": []
  },
  {
   "cell_type": "code",
   "execution_count": null,
   "id": "5bb58dd7",
   "metadata": {},
   "outputs": [],
   "source": []
  },
  {
   "cell_type": "code",
   "execution_count": null,
   "id": "70428ec9",
   "metadata": {},
   "outputs": [],
   "source": []
  },
  {
   "cell_type": "code",
   "execution_count": null,
   "id": "e65e1038",
   "metadata": {},
   "outputs": [],
   "source": []
  },
  {
   "cell_type": "code",
   "execution_count": null,
   "id": "fa35405b",
   "metadata": {},
   "outputs": [],
   "source": []
  },
  {
   "cell_type": "code",
   "execution_count": null,
   "id": "55ce9af9",
   "metadata": {},
   "outputs": [],
   "source": []
  }
 ],
 "metadata": {
  "kernelspec": {
   "display_name": "Python 3",
   "language": "python",
   "name": "python3"
  },
  "language_info": {
   "codemirror_mode": {
    "name": "ipython",
    "version": 3
   },
   "file_extension": ".py",
   "mimetype": "text/x-python",
   "name": "python",
   "nbconvert_exporter": "python",
   "pygments_lexer": "ipython3",
   "version": "3.8.8"
  }
 },
 "nbformat": 4,
 "nbformat_minor": 5
}
